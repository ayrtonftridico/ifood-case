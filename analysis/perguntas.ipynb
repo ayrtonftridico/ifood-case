{
 "cells": [
  {
   "cell_type": "code",
   "execution_count": 0,
   "metadata": {
    "application/vnd.databricks.v1+cell": {
     "cellMetadata": {
      "byteLimit": 2048000,
      "implicitDf": true,
      "rowLimit": 10000
     },
     "inputWidgets": {},
     "nuid": "63d90d4e-a6e2-4221-abce-381d1862e923",
     "showTitle": true,
     "tableResultSettingsMap": {},
     "title": "SQL Average Total Amount per Month"
    }
   },
   "outputs": [],
   "source": [
    "%sql\n",
    "SELECT anomes,\n",
    "       ROUND(AVG(total_amount), 2) AS media_total_amount\n",
    "FROM workspace.nyc_taxi.yellowtaxi_trips_2023_silver\n",
    "GROUP BY anomes\n",
    "ORDER BY anomes;\n"
   ]
  },
  {
   "cell_type": "code",
   "execution_count": 0,
   "metadata": {
    "application/vnd.databricks.v1+cell": {
     "cellMetadata": {
      "byteLimit": 2048000,
      "implicitDf": true,
      "rowLimit": 10000
     },
     "inputWidgets": {},
     "nuid": "1a428cf1-eeac-486b-9243-7df5ef902d5a",
     "showTitle": true,
     "tableResultSettingsMap": {},
     "title": "SQL Average Passengers per Hour in May 2023"
    }
   },
   "outputs": [],
   "source": [
    "%sql\n",
    "SELECT HOUR(tpep_pickup_datetime) AS hora_do_dia,\n",
    "       ROUND(AVG(passenger_count), 2) AS media_passageiros\n",
    "FROM workspace.nyc_taxi.yellowtaxi_trips_2023_silver\n",
    "WHERE anomes = '202305'\n",
    "GROUP BY hora_do_dia\n",
    "ORDER BY hora_do_dia;\n"
   ]
  },
  {
   "cell_type": "code",
   "execution_count": 0,
   "metadata": {
    "application/vnd.databricks.v1+cell": {
     "cellMetadata": {
      "byteLimit": 2048000,
      "rowLimit": 10000
     },
     "inputWidgets": {},
     "nuid": "05a1ce56-459c-4720-86c5-59995b6aaa97",
     "showTitle": true,
     "tableResultSettingsMap": {},
     "title": "Plotting Average Passengers per Hour in May 2023"
    }
   },
   "outputs": [],
   "source": [
    "from pyspark.sql import functions as F\n",
    "import matplotlib.pyplot as plt\n",
    "\n",
    "# 1. Consulta e coleta os dados\n",
    "df_maio = (spark.table(\"workspace.nyc_taxi.yellowtaxi_trips_2023_silver\")\n",
    "    .filter(F.col(\"anomes\") == \"202305\")\n",
    "    .groupBy(F.hour(\"tpep_pickup_datetime\").alias(\"hora_do_dia\"))\n",
    "    .agg(F.round(F.avg(\"passenger_count\"), 2).alias(\"media_passageiros\"))\n",
    "    .orderBy(\"hora_do_dia\")\n",
    ")\n",
    "\n",
    "# Converte para pandas para plotar\n",
    "pdf = df_maio.toPandas()\n",
    "\n",
    "# 2. Cria o gráfico\n",
    "plt.figure(figsize=(10,5))\n",
    "plt.plot(pdf[\"hora_do_dia\"], pdf[\"media_passageiros\"], marker=\"o\")\n",
    "plt.title(\"Média de Passageiros por Hora - Maio/2023\")\n",
    "plt.xlabel(\"Hora do Dia\")\n",
    "plt.ylabel(\"Média de Passageiros\")\n",
    "plt.grid(True)\n",
    "plt.xticks(range(0, 24))\n",
    "plt.show()\n"
   ]
  }
 ],
 "metadata": {
  "application/vnd.databricks.v1+notebook": {
   "computePreferences": null,
   "dashboards": [],
   "environmentMetadata": {
    "base_environment": "",
    "environment_version": "3"
   },
   "inputWidgetPreferences": null,
   "language": "python",
   "notebookMetadata": {
    "mostRecentlyExecutedCommandWithImplicitDF": {
     "commandId": 5860577388461930,
     "dataframes": [
      "_sqldf"
     ]
    },
    "pythonIndentUnit": 4
   },
   "notebookName": "perguntas",
   "widgets": {}
  },
  "language_info": {
   "name": "python"
  }
 },
 "nbformat": 4,
 "nbformat_minor": 0
}
