{
 "cells": [
  {
   "cell_type": "code",
   "execution_count": 0,
   "metadata": {
    "application/vnd.databricks.v1+cell": {
     "cellMetadata": {
      "byteLimit": 2048000,
      "implicitDf": true,
      "rowLimit": 10000
     },
     "inputWidgets": {},
     "nuid": "63d90d4e-a6e2-4221-abce-381d1862e923",
     "showTitle": true,
     "tableResultSettingsMap": {},
     "title": "SQL Average Total Amount per Month"
    }
   },
   "outputs": [],
   "source": [
    "%sql\n",
    "-- 📊 Cálculo da média de valor total recebido por mês\n",
    "-- Esta consulta calcula a média de 'total_amount' para cada partição (anomes)\n",
    "-- utilizando a camada Silver que criamos (jan–mai/2023).\n",
    "-- O resultado mostra, para cada mês, o valor médio recebido por corrida.\n",
    "\n",
    "SELECT \n",
    "    anomes,\n",
    "    ROUND(AVG(total_amount), 2) AS media_total_amount\n",
    "FROM workspace.nyc_taxi.yellowtaxi_trips_2023_spec\n",
    "GROUP BY anomes\n",
    "ORDER BY anomes;\n"
   ]
  },
  {
   "cell_type": "code",
   "execution_count": 0,
   "metadata": {
    "application/vnd.databricks.v1+cell": {
     "cellMetadata": {
      "byteLimit": 2048000,
      "implicitDf": true,
      "rowLimit": 10000
     },
     "inputWidgets": {},
     "nuid": "1a428cf1-eeac-486b-9243-7df5ef902d5a",
     "showTitle": true,
     "tableResultSettingsMap": {},
     "title": "SQL Average Passengers per Hour in May 2023"
    }
   },
   "outputs": [],
   "source": [
    "%sql\n",
    "-- 📊 Cálculo da média de passageiros por hora do dia (Mês de Maio/2023)\n",
    "-- Passos:\n",
    "-- 1. Filtra a camada Silver para incluir apenas registros de maio de 2023 (anomes = '202305').\n",
    "-- 2. Extrai a hora do dia a partir do campo de pickup (tpep_pickup_datetime).\n",
    "-- 3. Calcula a média de passageiros por hora.\n",
    "-- 4. Ordena o resultado de 0h a 23h para facilitar a análise temporal.\n",
    "\n",
    "SELECT \n",
    "    HOUR(tpep_pickup_datetime) AS hora_do_dia,\n",
    "    ROUND(AVG(passenger_count), 2) AS media_passageiros\n",
    "FROM workspace.nyc_taxi.yellowtaxi_trips_2023_spec\n",
    "WHERE anomes = '202305'\n",
    "GROUP BY hora_do_dia\n",
    "ORDER BY hora_do_dia;\n"
   ]
  },
  {
   "cell_type": "code",
   "execution_count": 0,
   "metadata": {
    "application/vnd.databricks.v1+cell": {
     "cellMetadata": {
      "byteLimit": 2048000,
      "rowLimit": 10000
     },
     "inputWidgets": {},
     "nuid": "05a1ce56-459c-4720-86c5-59995b6aaa97",
     "showTitle": true,
     "tableResultSettingsMap": {},
     "title": "Plotting Average Passengers per Hour in May 2023"
    }
   },
   "outputs": [],
   "source": [
    "from pyspark.sql import functions as F\n",
    "import matplotlib.pyplot as plt\n",
    "\n",
    "# 📥 1. Consulta agregada para o mês de maio/2023\n",
    "df_maio = (\n",
    "    spark.table(\"workspace.nyc_taxi.yellowtaxi_trips_2023_spec\")\n",
    "    .filter(F.col(\"anomes\") == \"202305\")\n",
    "    .groupBy(F.hour(\"tpep_pickup_datetime\").alias(\"hora_do_dia\"))\n",
    "    .agg(F.round(F.avg(\"passenger_count\"), 2).alias(\"media_passageiros\"))\n",
    "    .orderBy(\"hora_do_dia\")\n",
    ")\n",
    "\n",
    "# Converte o DataFrame Spark para Pandas para facilitar a plotagem no Matplotlib\n",
    "pdf = df_maio.toPandas()\n",
    "\n",
    "# 📊 2. Criação do gráfico de linha\n",
    "# - Eixo X: horas do dia (0 a 23)\n",
    "# - Eixo Y: média de passageiros por corrida\n",
    "# - Inclui marcadores para destacar pontos\n",
    "plt.figure(figsize=(10,5))\n",
    "plt.plot(pdf[\"hora_do_dia\"], pdf[\"media_passageiros\"], marker=\"o\")\n",
    "plt.title(\"Média de Passageiros por Hora - Maio/2023\")\n",
    "plt.xlabel(\"Hora do Dia\")\n",
    "plt.ylabel(\"Média de Passageiros\")\n",
    "plt.grid(True)\n",
    "plt.xticks(range(0, 24))\n",
    "plt.show()\n"
   ]
  }
 ],
 "metadata": {
  "application/vnd.databricks.v1+notebook": {
   "computePreferences": null,
   "dashboards": [],
   "environmentMetadata": {
    "base_environment": "",
    "environment_version": "3"
   },
   "inputWidgetPreferences": null,
   "language": "python",
   "notebookMetadata": {
    "mostRecentlyExecutedCommandWithImplicitDF": {
     "commandId": 1136134262098877,
     "dataframes": [
      "_sqldf"
     ]
    },
    "pythonIndentUnit": 4
   },
   "notebookName": "perguntas",
   "widgets": {}
  },
  "language_info": {
   "name": "python"
  }
 },
 "nbformat": 4,
 "nbformat_minor": 0
}
