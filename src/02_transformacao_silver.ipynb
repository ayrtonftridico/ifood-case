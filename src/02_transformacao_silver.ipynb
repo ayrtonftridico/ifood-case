{
 "cells": [
  {
   "cell_type": "code",
   "execution_count": 0,
   "metadata": {
    "application/vnd.databricks.v1+cell": {
     "cellMetadata": {
      "byteLimit": 2048000,
      "implicitDf": true,
      "rowLimit": 10000
     },
     "inputWidgets": {},
     "nuid": "0706e77f-51bb-4d41-858b-264882d11e0e",
     "showTitle": true,
     "tableResultSettingsMap": {},
     "title": "NYC Yellow Taxi Trips Data Processing"
    }
   },
   "outputs": [],
   "source": [
    "from pyspark.sql import functions as F\n",
    "\n",
    "# 📥 Leitura da tabela Bronze (camada SOR criada anteriormente)\n",
    "df_bronze = spark.table(\"workspace.nyc_taxi.yellowtaxi_trips_sor\")\n",
    "\n",
    "# 🎯 Seleção e filtragem para criar a camada Silver\n",
    "df_silver = (\n",
    "    df_bronze\n",
    "    .select(\n",
    "        \"vendorid\",              # ID do fornecedor/táxi\n",
    "        \"passenger_count\",       # Número de passageiros\n",
    "        \"total_amount\",          # Valor total da corrida\n",
    "        \"tpep_pickup_datetime\",  # Data/hora de embarque\n",
    "        \"tpep_dropoff_datetime\", # Data/hora de desembarque\n",
    "        \"anomes\"                 # Coluna de partição no formato YYYYMM\n",
    "    )\n",
    "    .filter(\n",
    "        (F.col(\"anomes\") >= \"202301\") &  # Inclui apenas dados de janeiro/2023\n",
    "        (F.col(\"anomes\") <= \"202305\")    # até maio/2023 (inclusive)\n",
    "    )\n",
    ")\n",
    "\n",
    "# 💾 Escrita da camada Silver\n",
    "(df_silver.write\n",
    "    .format(\"delta\")\n",
    "    .mode(\"overwrite\")           # Sobrescreve a tabela se ela já existir\n",
    "    .partitionBy(\"anomes\")       # Cria partições físicas por mês\n",
    "    .saveAsTable(\"workspace.nyc_taxi.yellowtaxi_trips_2023_spec\"))\n",
    "\n",
    "# 👀 Visualização de amostra para conferência\n",
    "display(df_silver.limit(10))\n"
   ]
  }
 ],
 "metadata": {
  "application/vnd.databricks.v1+notebook": {
   "computePreferences": null,
   "dashboards": [],
   "environmentMetadata": {
    "base_environment": "",
    "environment_version": "3"
   },
   "inputWidgetPreferences": null,
   "language": "python",
   "notebookMetadata": {
    "mostRecentlyExecutedCommandWithImplicitDF": {
     "commandId": 5860577388461928,
     "dataframes": [
      "_sqldf"
     ]
    },
    "pythonIndentUnit": 4
   },
   "notebookName": "02_transformacao_silver",
   "widgets": {}
  },
  "language_info": {
   "name": "python"
  }
 },
 "nbformat": 4,
 "nbformat_minor": 0
}
