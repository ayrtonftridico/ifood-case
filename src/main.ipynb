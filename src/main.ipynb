{
 "cells": [
  {
   "cell_type": "code",
   "execution_count": 0,
   "metadata": {
    "application/vnd.databricks.v1+cell": {
     "cellMetadata": {
      "byteLimit": 2048000,
      "rowLimit": 10000
     },
     "inputWidgets": {},
     "nuid": "0dd251d7-a7e8-4fc5-b753-f480c4803916",
     "showTitle": false,
     "tableResultSettingsMap": {},
     "title": ""
    }
   },
   "outputs": [],
   "source": [
    "from pyspark.sql import functions as F\n",
    "from functools import reduce\n",
    "\n",
    "base_dir = \"/Volumes/workspace/nyc_taxi/raw/2023\"\n",
    "\n",
    "# Schema alvo (padronizado)\n",
    "target_schema = {\n",
    "    \"vendorid\": \"long\",\n",
    "    \"tpep_pickup_datetime\": \"timestamp\",\n",
    "    \"tpep_dropoff_datetime\": \"timestamp\",\n",
    "    \"passenger_count\": \"double\",\n",
    "    \"trip_distance\": \"double\",\n",
    "    \"ratecodeid\": \"double\",\n",
    "    \"store_and_fwd_flag\": \"string\",\n",
    "    \"pulocationid\": \"long\",\n",
    "    \"dolocationid\": \"long\",\n",
    "    \"payment_type\": \"long\",\n",
    "    \"fare_amount\": \"double\",\n",
    "    \"extra\": \"double\",\n",
    "    \"mta_tax\": \"double\",\n",
    "    \"tip_amount\": \"double\",\n",
    "    \"tolls_amount\": \"double\",\n",
    "    \"improvement_surcharge\": \"double\",\n",
    "    \"total_amount\": \"double\",\n",
    "    \"congestion_surcharge\": \"double\",\n",
    "    \"airport_fee\": \"double\",\n",
    "}\n",
    "\n",
    "target_cols = list(target_schema.keys())\n",
    "\n",
    "files = [f.path for f in dbutils.fs.ls(base_dir) if f.path.endswith(\".parquet\")]\n",
    "assert files, f\"Nenhum parquet encontrado em {base_dir}\"\n",
    "\n",
    "def normalize_one(path: str):\n",
    "    df = spark.read.parquet(path)\n",
    "\n",
    "    # padroniza nomes de colunas\n",
    "    for c in df.columns:\n",
    "        new = c.lower()\n",
    "        if new != c:\n",
    "            df = df.withColumnRenamed(c, new)\n",
    "\n",
    "    if \"airport_fee\" not in df.columns and \"Airport_fee\".lower() in [c.lower() for c in df.columns]:\n",
    "        df = df.withColumnRenamed(\"Airport_fee\", \"airport_fee\")\n",
    "\n",
    "    for col, dtype in target_schema.items():\n",
    "        if col not in df.columns:\n",
    "            df = df.withColumn(col, F.lit(None).cast(dtype))\n",
    "\n",
    "    for col, dtype in target_schema.items():\n",
    "        df = df.withColumn(col, F.col(col).cast(dtype))\n",
    "\n",
    "    # usa _metadata.file_path (suportado no Unity Catalog)\n",
    "    df = df.withColumn(\n",
    "        \"anomes\",\n",
    "        F.regexp_replace(\n",
    "            F.regexp_extract(F.col(\"_metadata.file_path\"), r\".*_(\\d{4}-\\d{2})\\.parquet$\", 1),\n",
    "            \"-\", \"\"\n",
    "        )\n",
    "    )\n",
    "\n",
    "    return df.select(*target_cols, \"anomes\")\n",
    "\n",
    "dfs = [normalize_one(p) for p in files]\n",
    "df_all = reduce(lambda a, b: a.unionByName(b, allowMissingColumns=True), dfs)\n",
    "\n",
    "df_all.select(\"anomes\").distinct().orderBy(\"anomes\").show()\n",
    "df_all.printSchema()\n",
    "\n",
    "(df_all.write\n",
    "    .format(\"delta\")\n",
    "    .mode(\"overwrite\")\n",
    "    .partitionBy(\"anomes\")\n",
    "    .saveAsTable(\"workspace.nyc_taxi.yellowtaxi_trips_2023\"))\n"
   ]
  },
  {
   "cell_type": "code",
   "execution_count": 0,
   "metadata": {
    "application/vnd.databricks.v1+cell": {
     "cellMetadata": {
      "byteLimit": 2048000,
      "implicitDf": true,
      "rowLimit": 10000
     },
     "inputWidgets": {},
     "nuid": "0706e77f-51bb-4d41-858b-264882d11e0e",
     "showTitle": false,
     "tableResultSettingsMap": {},
     "title": ""
    }
   },
   "outputs": [],
   "source": [
    "from pyspark.sql import functions as F\n",
    "\n",
    "# Leitura da tabela Bronze (que você criou anteriormente)\n",
    "df_bronze = spark.table(\"workspace.nyc_taxi.yellowtaxi_trips_2023\")\n",
    "\n",
    "# Filtro de colunas e de período\n",
    "df_silver = (df_bronze\n",
    "    .select(\"vendorid\",\n",
    "            \"passenger_count\",\n",
    "            \"total_amount\",\n",
    "            \"tpep_pickup_datetime\",\n",
    "            \"tpep_dropoff_datetime\",\n",
    "            \"anomes\")\n",
    "    .filter((F.col(\"anomes\") >= \"202301\") & (F.col(\"anomes\") <= \"202305\"))\n",
    ")\n",
    "\n",
    "# Escrita em uma nova tabela Delta particionada por anomes\n",
    "(df_silver.write\n",
    "    .format(\"delta\")\n",
    "    .mode(\"overwrite\")\n",
    "    .partitionBy(\"anomes\")\n",
    "    .saveAsTable(\"workspace.nyc_taxi.yellowtaxi_trips_2023_silver\"))\n",
    "\n",
    "display(df_silver.limit(10))"
   ]
  },
  {
   "cell_type": "code",
   "execution_count": 0,
   "metadata": {
    "application/vnd.databricks.v1+cell": {
     "cellMetadata": {
      "byteLimit": 2048000,
      "implicitDf": true,
      "rowLimit": 10000
     },
     "inputWidgets": {},
     "nuid": "d553114b-a338-468a-a522-6a6e9b6fea39",
     "showTitle": false,
     "tableResultSettingsMap": {},
     "title": ""
    }
   },
   "outputs": [],
   "source": [
    "# Validacao de qtd de linhas por particao\n",
    "%sql\n",
    "SELECT anomes,\n",
    "       COUNT(*) AS qtd_linhas\n",
    "FROM workspace.nyc_taxi.yellowtaxi_trips_2023_silver\n",
    "GROUP BY anomes\n",
    "ORDER BY anomes;\n"
   ]
  }
 ],
 "metadata": {
  "application/vnd.databricks.v1+notebook": {
   "computePreferences": null,
   "dashboards": [],
   "environmentMetadata": {
    "base_environment": "",
    "environment_version": "3"
   },
   "inputWidgetPreferences": null,
   "language": "python",
   "notebookMetadata": {
    "mostRecentlyExecutedCommandWithImplicitDF": {
     "commandId": 5860577388461930,
     "dataframes": [
      "_sqldf"
     ]
    },
    "pythonIndentUnit": 4
   },
   "notebookName": "main",
   "widgets": {}
  },
  "language_info": {
   "name": "python"
  }
 },
 "nbformat": 4,
 "nbformat_minor": 0
}
